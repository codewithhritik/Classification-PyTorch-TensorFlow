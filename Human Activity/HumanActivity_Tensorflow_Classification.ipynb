{
  "nbformat": 4,
  "nbformat_minor": 0,
  "metadata": {
    "colab": {
      "provenance": [],
      "gpuType": "V28"
    },
    "kernelspec": {
      "name": "python3",
      "display_name": "Python 3"
    },
    "language_info": {
      "name": "python"
    },
    "accelerator": "TPU"
  },
  "cells": [
    {
      "cell_type": "code",
      "execution_count": null,
      "metadata": {
        "id": "FpWN778pbhR_"
      },
      "outputs": [],
      "source": [
        "import pandas as pd\n",
        "import numpy as np\n",
        "import matplotlib.pyplot as plt\n",
        "from sklearn.model_selection import train_test_split\n",
        "from sklearn.preprocessing import StandardScaler\n",
        "from sklearn.metrics import roc_curve, auc, precision_recall_curve, average_precision_score\n",
        "from tensorflow.keras.models import Sequential\n",
        "from tensorflow.keras.layers import Dense, Dropout\n",
        "from tensorflow.keras.callbacks import EarlyStopping\n",
        "import tensorflow as tf"
      ]
    },
    {
      "cell_type": "code",
      "source": [
        "file_path = '/content/501.csv'\n",
        "data = pd.read_csv(file_path)\n",
        "\n",
        "data_info = {\n",
        "    \"First Few Rows\": data.head(),\n",
        "    \"Data Types\": data.dtypes,\n",
        "    \"Missing Values\": data.isnull().sum()\n",
        "}\n",
        "\n",
        "data_info"
      ],
      "metadata": {
        "colab": {
          "base_uri": "https://localhost:8080/"
        },
        "id": "8fD9htNz03xq",
        "outputId": "23d4e911-fe2b-482f-e8ec-53c77e29cb4d"
      },
      "execution_count": null,
      "outputs": [
        {
          "output_type": "execute_result",
          "data": {
            "text/plain": [
              "{'First Few Rows':                  timestamp    back_x    back_y    back_z   thigh_x   thigh_y  \\\n",
              " 0  2021-03-24 14:42:03.839 -0.999023 -0.063477  0.140625 -0.980469 -0.112061   \n",
              " 1  2021-03-24 14:42:03.859 -0.980225 -0.079346  0.140625 -0.961182 -0.121582   \n",
              " 2  2021-03-24 14:42:03.880 -0.950195 -0.076416  0.140625 -0.949463 -0.080566   \n",
              " 3  2021-03-24 14:42:03.900 -0.954834 -0.059082  0.140381 -0.957520 -0.046143   \n",
              " 4  2021-03-24 14:42:03.920 -0.972412 -0.042969  0.142822 -0.977051 -0.023682   \n",
              " \n",
              "     thigh_z  label  \n",
              " 0 -0.048096      6  \n",
              " 1 -0.051758      6  \n",
              " 2 -0.067139      6  \n",
              " 3 -0.050781      6  \n",
              " 4 -0.026611      6  ,\n",
              " 'Data Types': timestamp     object\n",
              " back_x       float64\n",
              " back_y       float64\n",
              " back_z       float64\n",
              " thigh_x      float64\n",
              " thigh_y      float64\n",
              " thigh_z      float64\n",
              " label          int64\n",
              " dtype: object,\n",
              " 'Missing Values': timestamp    0\n",
              " back_x       0\n",
              " back_y       0\n",
              " back_z       0\n",
              " thigh_x      0\n",
              " thigh_y      0\n",
              " thigh_z      0\n",
              " label        0\n",
              " dtype: int64}"
            ]
          },
          "metadata": {},
          "execution_count": 2
        }
      ]
    },
    {
      "cell_type": "code",
      "source": [
        "data.head()"
      ],
      "metadata": {
        "colab": {
          "base_uri": "https://localhost:8080/",
          "height": 206
        },
        "id": "h8C7tV8v1NOD",
        "outputId": "c5d5b316-9329-4499-fb64-6aceaf8769c2"
      },
      "execution_count": null,
      "outputs": [
        {
          "output_type": "execute_result",
          "data": {
            "text/plain": [
              "                 timestamp    back_x    back_y    back_z   thigh_x   thigh_y  \\\n",
              "0  2021-03-24 14:42:03.839 -0.999023 -0.063477  0.140625 -0.980469 -0.112061   \n",
              "1  2021-03-24 14:42:03.859 -0.980225 -0.079346  0.140625 -0.961182 -0.121582   \n",
              "2  2021-03-24 14:42:03.880 -0.950195 -0.076416  0.140625 -0.949463 -0.080566   \n",
              "3  2021-03-24 14:42:03.900 -0.954834 -0.059082  0.140381 -0.957520 -0.046143   \n",
              "4  2021-03-24 14:42:03.920 -0.972412 -0.042969  0.142822 -0.977051 -0.023682   \n",
              "\n",
              "    thigh_z  label  \n",
              "0 -0.048096      6  \n",
              "1 -0.051758      6  \n",
              "2 -0.067139      6  \n",
              "3 -0.050781      6  \n",
              "4 -0.026611      6  "
            ],
            "text/html": [
              "\n",
              "  <div id=\"df-954d5a61-db88-4271-8ef3-8ec168c42cdb\" class=\"colab-df-container\">\n",
              "    <div>\n",
              "<style scoped>\n",
              "    .dataframe tbody tr th:only-of-type {\n",
              "        vertical-align: middle;\n",
              "    }\n",
              "\n",
              "    .dataframe tbody tr th {\n",
              "        vertical-align: top;\n",
              "    }\n",
              "\n",
              "    .dataframe thead th {\n",
              "        text-align: right;\n",
              "    }\n",
              "</style>\n",
              "<table border=\"1\" class=\"dataframe\">\n",
              "  <thead>\n",
              "    <tr style=\"text-align: right;\">\n",
              "      <th></th>\n",
              "      <th>timestamp</th>\n",
              "      <th>back_x</th>\n",
              "      <th>back_y</th>\n",
              "      <th>back_z</th>\n",
              "      <th>thigh_x</th>\n",
              "      <th>thigh_y</th>\n",
              "      <th>thigh_z</th>\n",
              "      <th>label</th>\n",
              "    </tr>\n",
              "  </thead>\n",
              "  <tbody>\n",
              "    <tr>\n",
              "      <th>0</th>\n",
              "      <td>2021-03-24 14:42:03.839</td>\n",
              "      <td>-0.999023</td>\n",
              "      <td>-0.063477</td>\n",
              "      <td>0.140625</td>\n",
              "      <td>-0.980469</td>\n",
              "      <td>-0.112061</td>\n",
              "      <td>-0.048096</td>\n",
              "      <td>6</td>\n",
              "    </tr>\n",
              "    <tr>\n",
              "      <th>1</th>\n",
              "      <td>2021-03-24 14:42:03.859</td>\n",
              "      <td>-0.980225</td>\n",
              "      <td>-0.079346</td>\n",
              "      <td>0.140625</td>\n",
              "      <td>-0.961182</td>\n",
              "      <td>-0.121582</td>\n",
              "      <td>-0.051758</td>\n",
              "      <td>6</td>\n",
              "    </tr>\n",
              "    <tr>\n",
              "      <th>2</th>\n",
              "      <td>2021-03-24 14:42:03.880</td>\n",
              "      <td>-0.950195</td>\n",
              "      <td>-0.076416</td>\n",
              "      <td>0.140625</td>\n",
              "      <td>-0.949463</td>\n",
              "      <td>-0.080566</td>\n",
              "      <td>-0.067139</td>\n",
              "      <td>6</td>\n",
              "    </tr>\n",
              "    <tr>\n",
              "      <th>3</th>\n",
              "      <td>2021-03-24 14:42:03.900</td>\n",
              "      <td>-0.954834</td>\n",
              "      <td>-0.059082</td>\n",
              "      <td>0.140381</td>\n",
              "      <td>-0.957520</td>\n",
              "      <td>-0.046143</td>\n",
              "      <td>-0.050781</td>\n",
              "      <td>6</td>\n",
              "    </tr>\n",
              "    <tr>\n",
              "      <th>4</th>\n",
              "      <td>2021-03-24 14:42:03.920</td>\n",
              "      <td>-0.972412</td>\n",
              "      <td>-0.042969</td>\n",
              "      <td>0.142822</td>\n",
              "      <td>-0.977051</td>\n",
              "      <td>-0.023682</td>\n",
              "      <td>-0.026611</td>\n",
              "      <td>6</td>\n",
              "    </tr>\n",
              "  </tbody>\n",
              "</table>\n",
              "</div>\n",
              "    <div class=\"colab-df-buttons\">\n",
              "\n",
              "  <div class=\"colab-df-container\">\n",
              "    <button class=\"colab-df-convert\" onclick=\"convertToInteractive('df-954d5a61-db88-4271-8ef3-8ec168c42cdb')\"\n",
              "            title=\"Convert this dataframe to an interactive table.\"\n",
              "            style=\"display:none;\">\n",
              "\n",
              "  <svg xmlns=\"http://www.w3.org/2000/svg\" height=\"24px\" viewBox=\"0 -960 960 960\">\n",
              "    <path d=\"M120-120v-720h720v720H120Zm60-500h600v-160H180v160Zm220 220h160v-160H400v160Zm0 220h160v-160H400v160ZM180-400h160v-160H180v160Zm440 0h160v-160H620v160ZM180-180h160v-160H180v160Zm440 0h160v-160H620v160Z\"/>\n",
              "  </svg>\n",
              "    </button>\n",
              "\n",
              "  <style>\n",
              "    .colab-df-container {\n",
              "      display:flex;\n",
              "      gap: 12px;\n",
              "    }\n",
              "\n",
              "    .colab-df-convert {\n",
              "      background-color: #E8F0FE;\n",
              "      border: none;\n",
              "      border-radius: 50%;\n",
              "      cursor: pointer;\n",
              "      display: none;\n",
              "      fill: #1967D2;\n",
              "      height: 32px;\n",
              "      padding: 0 0 0 0;\n",
              "      width: 32px;\n",
              "    }\n",
              "\n",
              "    .colab-df-convert:hover {\n",
              "      background-color: #E2EBFA;\n",
              "      box-shadow: 0px 1px 2px rgba(60, 64, 67, 0.3), 0px 1px 3px 1px rgba(60, 64, 67, 0.15);\n",
              "      fill: #174EA6;\n",
              "    }\n",
              "\n",
              "    .colab-df-buttons div {\n",
              "      margin-bottom: 4px;\n",
              "    }\n",
              "\n",
              "    [theme=dark] .colab-df-convert {\n",
              "      background-color: #3B4455;\n",
              "      fill: #D2E3FC;\n",
              "    }\n",
              "\n",
              "    [theme=dark] .colab-df-convert:hover {\n",
              "      background-color: #434B5C;\n",
              "      box-shadow: 0px 1px 3px 1px rgba(0, 0, 0, 0.15);\n",
              "      filter: drop-shadow(0px 1px 2px rgba(0, 0, 0, 0.3));\n",
              "      fill: #FFFFFF;\n",
              "    }\n",
              "  </style>\n",
              "\n",
              "    <script>\n",
              "      const buttonEl =\n",
              "        document.querySelector('#df-954d5a61-db88-4271-8ef3-8ec168c42cdb button.colab-df-convert');\n",
              "      buttonEl.style.display =\n",
              "        google.colab.kernel.accessAllowed ? 'block' : 'none';\n",
              "\n",
              "      async function convertToInteractive(key) {\n",
              "        const element = document.querySelector('#df-954d5a61-db88-4271-8ef3-8ec168c42cdb');\n",
              "        const dataTable =\n",
              "          await google.colab.kernel.invokeFunction('convertToInteractive',\n",
              "                                                    [key], {});\n",
              "        if (!dataTable) return;\n",
              "\n",
              "        const docLinkHtml = 'Like what you see? Visit the ' +\n",
              "          '<a target=\"_blank\" href=https://colab.research.google.com/notebooks/data_table.ipynb>data table notebook</a>'\n",
              "          + ' to learn more about interactive tables.';\n",
              "        element.innerHTML = '';\n",
              "        dataTable['output_type'] = 'display_data';\n",
              "        await google.colab.output.renderOutput(dataTable, element);\n",
              "        const docLink = document.createElement('div');\n",
              "        docLink.innerHTML = docLinkHtml;\n",
              "        element.appendChild(docLink);\n",
              "      }\n",
              "    </script>\n",
              "  </div>\n",
              "\n",
              "\n",
              "<div id=\"df-ccb6312e-15bd-4266-a7f0-f413211200a4\">\n",
              "  <button class=\"colab-df-quickchart\" onclick=\"quickchart('df-ccb6312e-15bd-4266-a7f0-f413211200a4')\"\n",
              "            title=\"Suggest charts\"\n",
              "            style=\"display:none;\">\n",
              "\n",
              "<svg xmlns=\"http://www.w3.org/2000/svg\" height=\"24px\"viewBox=\"0 0 24 24\"\n",
              "     width=\"24px\">\n",
              "    <g>\n",
              "        <path d=\"M19 3H5c-1.1 0-2 .9-2 2v14c0 1.1.9 2 2 2h14c1.1 0 2-.9 2-2V5c0-1.1-.9-2-2-2zM9 17H7v-7h2v7zm4 0h-2V7h2v10zm4 0h-2v-4h2v4z\"/>\n",
              "    </g>\n",
              "</svg>\n",
              "  </button>\n",
              "\n",
              "<style>\n",
              "  .colab-df-quickchart {\n",
              "      --bg-color: #E8F0FE;\n",
              "      --fill-color: #1967D2;\n",
              "      --hover-bg-color: #E2EBFA;\n",
              "      --hover-fill-color: #174EA6;\n",
              "      --disabled-fill-color: #AAA;\n",
              "      --disabled-bg-color: #DDD;\n",
              "  }\n",
              "\n",
              "  [theme=dark] .colab-df-quickchart {\n",
              "      --bg-color: #3B4455;\n",
              "      --fill-color: #D2E3FC;\n",
              "      --hover-bg-color: #434B5C;\n",
              "      --hover-fill-color: #FFFFFF;\n",
              "      --disabled-bg-color: #3B4455;\n",
              "      --disabled-fill-color: #666;\n",
              "  }\n",
              "\n",
              "  .colab-df-quickchart {\n",
              "    background-color: var(--bg-color);\n",
              "    border: none;\n",
              "    border-radius: 50%;\n",
              "    cursor: pointer;\n",
              "    display: none;\n",
              "    fill: var(--fill-color);\n",
              "    height: 32px;\n",
              "    padding: 0;\n",
              "    width: 32px;\n",
              "  }\n",
              "\n",
              "  .colab-df-quickchart:hover {\n",
              "    background-color: var(--hover-bg-color);\n",
              "    box-shadow: 0 1px 2px rgba(60, 64, 67, 0.3), 0 1px 3px 1px rgba(60, 64, 67, 0.15);\n",
              "    fill: var(--button-hover-fill-color);\n",
              "  }\n",
              "\n",
              "  .colab-df-quickchart-complete:disabled,\n",
              "  .colab-df-quickchart-complete:disabled:hover {\n",
              "    background-color: var(--disabled-bg-color);\n",
              "    fill: var(--disabled-fill-color);\n",
              "    box-shadow: none;\n",
              "  }\n",
              "\n",
              "  .colab-df-spinner {\n",
              "    border: 2px solid var(--fill-color);\n",
              "    border-color: transparent;\n",
              "    border-bottom-color: var(--fill-color);\n",
              "    animation:\n",
              "      spin 1s steps(1) infinite;\n",
              "  }\n",
              "\n",
              "  @keyframes spin {\n",
              "    0% {\n",
              "      border-color: transparent;\n",
              "      border-bottom-color: var(--fill-color);\n",
              "      border-left-color: var(--fill-color);\n",
              "    }\n",
              "    20% {\n",
              "      border-color: transparent;\n",
              "      border-left-color: var(--fill-color);\n",
              "      border-top-color: var(--fill-color);\n",
              "    }\n",
              "    30% {\n",
              "      border-color: transparent;\n",
              "      border-left-color: var(--fill-color);\n",
              "      border-top-color: var(--fill-color);\n",
              "      border-right-color: var(--fill-color);\n",
              "    }\n",
              "    40% {\n",
              "      border-color: transparent;\n",
              "      border-right-color: var(--fill-color);\n",
              "      border-top-color: var(--fill-color);\n",
              "    }\n",
              "    60% {\n",
              "      border-color: transparent;\n",
              "      border-right-color: var(--fill-color);\n",
              "    }\n",
              "    80% {\n",
              "      border-color: transparent;\n",
              "      border-right-color: var(--fill-color);\n",
              "      border-bottom-color: var(--fill-color);\n",
              "    }\n",
              "    90% {\n",
              "      border-color: transparent;\n",
              "      border-bottom-color: var(--fill-color);\n",
              "    }\n",
              "  }\n",
              "</style>\n",
              "\n",
              "  <script>\n",
              "    async function quickchart(key) {\n",
              "      const quickchartButtonEl =\n",
              "        document.querySelector('#' + key + ' button');\n",
              "      quickchartButtonEl.disabled = true;  // To prevent multiple clicks.\n",
              "      quickchartButtonEl.classList.add('colab-df-spinner');\n",
              "      try {\n",
              "        const charts = await google.colab.kernel.invokeFunction(\n",
              "            'suggestCharts', [key], {});\n",
              "      } catch (error) {\n",
              "        console.error('Error during call to suggestCharts:', error);\n",
              "      }\n",
              "      quickchartButtonEl.classList.remove('colab-df-spinner');\n",
              "      quickchartButtonEl.classList.add('colab-df-quickchart-complete');\n",
              "    }\n",
              "    (() => {\n",
              "      let quickchartButtonEl =\n",
              "        document.querySelector('#df-ccb6312e-15bd-4266-a7f0-f413211200a4 button');\n",
              "      quickchartButtonEl.style.display =\n",
              "        google.colab.kernel.accessAllowed ? 'block' : 'none';\n",
              "    })();\n",
              "  </script>\n",
              "</div>\n",
              "    </div>\n",
              "  </div>\n"
            ],
            "application/vnd.google.colaboratory.intrinsic+json": {
              "type": "dataframe",
              "variable_name": "data"
            }
          },
          "metadata": {},
          "execution_count": 3
        }
      ]
    },
    {
      "cell_type": "code",
      "source": [
        "# Convert timestamp to datetime\n",
        "data['timestamp'] = pd.to_datetime(data['timestamp'])\n",
        "\n",
        "# Adjust labels to start from 0\n",
        "data['label'] = data['label'] - 1\n",
        "\n",
        "# Separate features and labels\n",
        "X = data[['back_x', 'back_y', 'back_z', 'thigh_x', 'thigh_y', 'thigh_z']]\n",
        "y = data['label']\n",
        "\n",
        "# Normalize the features\n",
        "scaler = StandardScaler()\n",
        "X_scaled = scaler.fit_transform(X)"
      ],
      "metadata": {
        "id": "AVd_HhrI1Cwk"
      },
      "execution_count": null,
      "outputs": []
    },
    {
      "cell_type": "code",
      "source": [
        "# Split the data into train and test sets (80% train, 20% test)\n",
        "X_train, X_test, y_train, y_test = train_test_split(X_scaled, y, test_size=0.2, random_state=42)\n",
        "\n",
        "# Determine the number of unique labels for output layer\n",
        "num_classes = y.nunique() + 1  # Add 1 to account for 0-based indexing"
      ],
      "metadata": {
        "id": "JQNIIpYl2JWg"
      },
      "execution_count": null,
      "outputs": []
    },
    {
      "cell_type": "code",
      "source": [
        "num_classes"
      ],
      "metadata": {
        "id": "lwIjp9qsKRHT",
        "outputId": "ba851228-22a0-430f-bb26-0df179f34bda",
        "colab": {
          "base_uri": "https://localhost:8080/"
        }
      },
      "execution_count": null,
      "outputs": [
        {
          "output_type": "execute_result",
          "data": {
            "text/plain": [
              "8"
            ]
          },
          "metadata": {},
          "execution_count": 25
        }
      ]
    },
    {
      "cell_type": "code",
      "source": [
        "# Define and compile the model\n",
        "model = Sequential([\n",
        "    Dense(64, activation='relu', input_shape=(X_train.shape[1],)),\n",
        "    Dropout(0.5),\n",
        "    Dense(64, activation='relu'),\n",
        "    Dropout(0.5),\n",
        "    Dense(num_classes, activation='softmax')\n",
        "])"
      ],
      "metadata": {
        "id": "RExOZcbT2N2M"
      },
      "execution_count": null,
      "outputs": []
    },
    {
      "cell_type": "code",
      "source": [
        "model.compile(optimizer='adam', loss='sparse_categorical_crossentropy', metrics=['accuracy'])\n",
        "model.summary()"
      ],
      "metadata": {
        "id": "IjgPNc8G2oQR",
        "colab": {
          "base_uri": "https://localhost:8080/"
        },
        "outputId": "71677271-3849-4142-eb88-34161a516265"
      },
      "execution_count": null,
      "outputs": [
        {
          "output_type": "stream",
          "name": "stdout",
          "text": [
            "Model: \"sequential_1\"\n",
            "_________________________________________________________________\n",
            " Layer (type)                Output Shape              Param #   \n",
            "=================================================================\n",
            " dense_3 (Dense)             (None, 64)                448       \n",
            "                                                                 \n",
            " dropout_2 (Dropout)         (None, 64)                0         \n",
            "                                                                 \n",
            " dense_4 (Dense)             (None, 64)                4160      \n",
            "                                                                 \n",
            " dropout_3 (Dropout)         (None, 64)                0         \n",
            "                                                                 \n",
            " dense_5 (Dense)             (None, 8)                 520       \n",
            "                                                                 \n",
            "=================================================================\n",
            "Total params: 5128 (20.03 KB)\n",
            "Trainable params: 5128 (20.03 KB)\n",
            "Non-trainable params: 0 (0.00 Byte)\n",
            "_________________________________________________________________\n"
          ]
        }
      ]
    },
    {
      "cell_type": "code",
      "source": [
        "# Callback for early stopping\n",
        "early_stopping = EarlyStopping(monitor='val_loss', patience=3)"
      ],
      "metadata": {
        "id": "LN32somv8v1o"
      },
      "execution_count": null,
      "outputs": []
    },
    {
      "cell_type": "code",
      "source": [
        "# Training the model\n",
        "history = model.fit(X_train, y_train, epochs=20, validation_split=0.1, callbacks=[early_stopping])"
      ],
      "metadata": {
        "colab": {
          "base_uri": "https://localhost:8080/"
        },
        "id": "nlWObFav8ydm",
        "outputId": "a6fb70da-7e39-4c95-c720-7e0dcce74d6a"
      },
      "execution_count": null,
      "outputs": [
        {
          "output_type": "stream",
          "name": "stdout",
          "text": [
            "Epoch 1/20\n",
            "2337/2337 [==============================] - 5s 2ms/step - loss: 0.3231 - accuracy: 0.9113 - val_loss: 0.1512 - val_accuracy: 0.9593\n",
            "Epoch 2/20\n",
            "2337/2337 [==============================] - 4s 2ms/step - loss: 0.1887 - accuracy: 0.9508 - val_loss: 0.1319 - val_accuracy: 0.9621\n",
            "Epoch 3/20\n",
            "2337/2337 [==============================] - 4s 2ms/step - loss: 0.1721 - accuracy: 0.9546 - val_loss: 0.1260 - val_accuracy: 0.9659\n",
            "Epoch 4/20\n",
            "2337/2337 [==============================] - 4s 2ms/step - loss: 0.1660 - accuracy: 0.9555 - val_loss: 0.1231 - val_accuracy: 0.9652\n",
            "Epoch 5/20\n",
            "2337/2337 [==============================] - 4s 2ms/step - loss: 0.1603 - accuracy: 0.9567 - val_loss: 0.1221 - val_accuracy: 0.9661\n",
            "Epoch 6/20\n",
            "2337/2337 [==============================] - 4s 2ms/step - loss: 0.1572 - accuracy: 0.9574 - val_loss: 0.1196 - val_accuracy: 0.9656\n",
            "Epoch 7/20\n",
            "2337/2337 [==============================] - 4s 2ms/step - loss: 0.1542 - accuracy: 0.9583 - val_loss: 0.1189 - val_accuracy: 0.9665\n",
            "Epoch 8/20\n",
            "2337/2337 [==============================] - 4s 2ms/step - loss: 0.1520 - accuracy: 0.9586 - val_loss: 0.1184 - val_accuracy: 0.9650\n",
            "Epoch 9/20\n",
            "2337/2337 [==============================] - 4s 2ms/step - loss: 0.1515 - accuracy: 0.9580 - val_loss: 0.1180 - val_accuracy: 0.9656\n",
            "Epoch 10/20\n",
            "2337/2337 [==============================] - 4s 2ms/step - loss: 0.1493 - accuracy: 0.9588 - val_loss: 0.1171 - val_accuracy: 0.9658\n",
            "Epoch 11/20\n",
            "2337/2337 [==============================] - 4s 2ms/step - loss: 0.1485 - accuracy: 0.9588 - val_loss: 0.1156 - val_accuracy: 0.9653\n",
            "Epoch 12/20\n",
            "2337/2337 [==============================] - 4s 2ms/step - loss: 0.1497 - accuracy: 0.9590 - val_loss: 0.1162 - val_accuracy: 0.9661\n",
            "Epoch 13/20\n",
            "2337/2337 [==============================] - 4s 2ms/step - loss: 0.1477 - accuracy: 0.9591 - val_loss: 0.1153 - val_accuracy: 0.9665\n",
            "Epoch 14/20\n",
            "2337/2337 [==============================] - 4s 2ms/step - loss: 0.1458 - accuracy: 0.9597 - val_loss: 0.1169 - val_accuracy: 0.9649\n",
            "Epoch 15/20\n",
            "2337/2337 [==============================] - 4s 2ms/step - loss: 0.1448 - accuracy: 0.9593 - val_loss: 0.1138 - val_accuracy: 0.9663\n",
            "Epoch 16/20\n",
            "2337/2337 [==============================] - 4s 2ms/step - loss: 0.1453 - accuracy: 0.9595 - val_loss: 0.1169 - val_accuracy: 0.9650\n",
            "Epoch 17/20\n",
            "2337/2337 [==============================] - 4s 2ms/step - loss: 0.1445 - accuracy: 0.9603 - val_loss: 0.1140 - val_accuracy: 0.9662\n",
            "Epoch 18/20\n",
            "2337/2337 [==============================] - 4s 2ms/step - loss: 0.1447 - accuracy: 0.9597 - val_loss: 0.1136 - val_accuracy: 0.9669\n",
            "Epoch 19/20\n",
            "2337/2337 [==============================] - 4s 2ms/step - loss: 0.1447 - accuracy: 0.9597 - val_loss: 0.1132 - val_accuracy: 0.9661\n",
            "Epoch 20/20\n",
            "2337/2337 [==============================] - 4s 2ms/step - loss: 0.1427 - accuracy: 0.9603 - val_loss: 0.1122 - val_accuracy: 0.9670\n"
          ]
        }
      ]
    },
    {
      "cell_type": "code",
      "source": [
        "# Evaluate the model\n",
        "test_loss, test_accuracy = model.evaluate(X_test, y_test)\n",
        "print(f\"Test Accuracy: {test_accuracy*100:.2f}%\")"
      ],
      "metadata": {
        "colab": {
          "base_uri": "https://localhost:8080/"
        },
        "id": "qcARmjKS6j8F",
        "outputId": "1e9eb3e4-3e91-42bd-d8bd-0540f1497789"
      },
      "execution_count": null,
      "outputs": [
        {
          "output_type": "stream",
          "name": "stdout",
          "text": [
            "650/650 [==============================] - 1s 1ms/step - loss: 0.1205 - accuracy: 0.9652\n",
            "Test Accuracy: 96.52%\n"
          ]
        }
      ]
    },
    {
      "cell_type": "code",
      "source": [
        "# Save the model\n",
        "model.save('activity_classifier_model.h5')"
      ],
      "metadata": {
        "colab": {
          "base_uri": "https://localhost:8080/"
        },
        "id": "OQUUSFR17N17",
        "outputId": "0358123b-2b0f-4fb6-d27d-f59d2b41277d"
      },
      "execution_count": null,
      "outputs": [
        {
          "output_type": "stream",
          "name": "stderr",
          "text": [
            "/usr/local/lib/python3.10/dist-packages/keras/src/engine/training.py:3103: UserWarning: You are saving your model as an HDF5 file via `model.save()`. This file format is considered legacy. We recommend using instead the native Keras format, e.g. `model.save('my_model.keras')`.\n",
            "  saving_api.save_model(\n"
          ]
        }
      ]
    },
    {
      "cell_type": "code",
      "source": [
        "# Plotting\n",
        "plt.figure(figsize=(12, 5))\n",
        "\n",
        "# Loss Plots\n",
        "plt.subplot(1, 2, 1)\n",
        "plt.plot(history.history['loss'], label='Training Loss')\n",
        "plt.plot(history.history['val_loss'], label='Validation Loss')\n",
        "plt.title('Training and Validation Loss vs Epochs')\n",
        "plt.xlabel('Epochs')\n",
        "plt.ylabel('Loss')\n",
        "plt.legend()"
      ],
      "metadata": {
        "colab": {
          "base_uri": "https://localhost:8080/",
          "height": 504
        },
        "id": "RNcVB8xc97Dp",
        "outputId": "a65e9b4b-6d02-4ead-e000-c432a2816779"
      },
      "execution_count": null,
      "outputs": [
        {
          "output_type": "execute_result",
          "data": {
            "text/plain": [
              "<matplotlib.legend.Legend at 0x7f653c50a860>"
            ]
          },
          "metadata": {},
          "execution_count": 20
        },
        {
          "output_type": "display_data",
          "data": {
            "text/plain": [
              "<Figure size 1200x500 with 1 Axes>"
            ],
            "image/png": "[encoded data removed]"
          },
          "metadata": {}
        }
      ]
    },
    {
      "cell_type": "code",
      "source": [
        "# Plotting\n",
        "plt.figure(figsize=(12, 5))\n",
        "\n",
        "# Test loss per batch (assumption: model evaluates every 20th batch)\n",
        "test_batches = 800 // 20\n",
        "test_indices = np.linspace(0, min(799, len(X_test) - 1), num=test_batches, dtype=int)\n",
        "test_loss_batches = [model.evaluate(X_test[i:i+1], y_test[i:i+1], verbose=0)[0] for i in test_indices]\n",
        "\n",
        "plt.figure(figsize=(8, 4))\n",
        "plt.plot(test_indices, test_loss_batches, marker='o', linestyle='-', color='b')\n",
        "plt.title('Test Loss for Every 20th Batch (up to 800th batch)')\n",
        "plt.xlabel('Batch Index')\n",
        "plt.ylabel('Loss')\n",
        "plt.show()"
      ],
      "metadata": {
        "colab": {
          "base_uri": "https://localhost:8080/",
          "height": 427
        },
        "id": "IP0qSgC799BP",
        "outputId": "3c5b88cc-d4d8-4c8b-a8d6-ca5e233bb206"
      },
      "execution_count": null,
      "outputs": [
        {
          "output_type": "display_data",
          "data": {
            "text/plain": [
              "<Figure size 1200x500 with 0 Axes>"
            ]
          },
          "metadata": {}
        },
        {
          "output_type": "display_data",
          "data": {
            "text/plain": [
              "<Figure size 800x400 with 1 Axes>"
            ],
            "image/png": "[encoded data removed]"
          },
          "metadata": {}
        }
      ]
    },
    {
      "cell_type": "code",
      "source": [],
      "metadata": {
        "id": "TCZONmJA_NL1"
      },
      "execution_count": null,
      "outputs": []
    }
  ]
}